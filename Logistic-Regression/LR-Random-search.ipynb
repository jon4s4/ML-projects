{
  "cells": [
    {
      "cell_type": "code",
      "execution_count": 3,
      "metadata": {
        "trusted": true
      },
      "outputs": [],
      "source": [
        "import numpy as np\n",
        "import pandas as pd"
      ]
    },
    {
      "cell_type": "code",
      "execution_count": 4,
      "metadata": {
        "trusted": true
      },
      "outputs": [],
      "source": [
        "#Exercise 1:"
      ]
    },
    {
      "cell_type": "code",
      "execution_count": 5,
      "metadata": {
        "trusted": true
      },
      "outputs": [
        {
          "data": {
            "text/plain": [
              "16.0"
            ]
          },
          "execution_count": 5,
          "metadata": {},
          "output_type": "execute_result"
        }
      ],
      "source": [
        "np.log2(65536)"
      ]
    },
    {
      "cell_type": "code",
      "execution_count": 6,
      "metadata": {
        "trusted": true
      },
      "outputs": [
        {
          "name": "stdout",
          "output_type": "stream",
          "text": [
            "<bound method NDFrame.head of      price  area  bedrooms  bathrooms  stories  mainroad  guestroom  basement  \\\n",
            "0        1  7420         4          2        3         1          0         0   \n",
            "1        1  8960         4          4        4         1          0         0   \n",
            "2        1  9960         3          2        2         1          0         1   \n",
            "3        1  7500         4          2        2         1          0         1   \n",
            "4        1  7420         4          1        2         1          1         1   \n",
            "..     ...   ...       ...        ...      ...       ...        ...       ...   \n",
            "540      0  3000         2          1        1         1          0         1   \n",
            "541      0  2400         3          1        1         0          0         0   \n",
            "542      0  3620         2          1        1         1          0         0   \n",
            "543      0  2910         3          1        1         0          0         0   \n",
            "544      0  3850         3          1        2         1          0         0   \n",
            "\n",
            "     hotwaterheating  airconditioning  parking  prefarea  furnishingstatus  \n",
            "0                  0                1        2         1                 0  \n",
            "1                  0                1        3         0                 0  \n",
            "2                  0                0        2         1                 0  \n",
            "3                  0                1        3         1                 0  \n",
            "4                  0                1        2         0                 0  \n",
            "..               ...              ...      ...       ...               ...  \n",
            "540                0                0        2         0                 0  \n",
            "541                0                0        0         0                 0  \n",
            "542                0                0        0         0                 0  \n",
            "543                0                0        0         0                 0  \n",
            "544                0                0        0         0                 0  \n",
            "\n",
            "[545 rows x 13 columns]>\n"
          ]
        }
      ],
      "source": [
        "#exercise 2:\n",
        "data = pd.read_csv(\"Data.csv\")\n",
        "print(data.head)"
      ]
    },
    {
      "cell_type": "code",
      "execution_count": 15,
      "metadata": {
        "trusted": true
      },
      "outputs": [
        {
          "data": {
            "text/plain": [
              "(545, 12)"
            ]
          },
          "execution_count": 15,
          "metadata": {},
          "output_type": "execute_result"
        }
      ],
      "source": [
        "X = data.drop(columns=['price']).values #feature tensor\n",
        "y = data['price'].values\n",
        "X.shape"
      ]
    },
    {
      "cell_type": "code",
      "execution_count": 17,
      "metadata": {
        "trusted": true
      },
      "outputs": [
        {
          "data": {
            "text/plain": [
              "(12,)"
            ]
          },
          "execution_count": 17,
          "metadata": {},
          "output_type": "execute_result"
        }
      ],
      "source": [
        "samples, features = X.shape # samples -> x, features -> y\n",
        "W = np.random.randn(features) #weight tensor\n",
        "B = np.random.randn() #bias tensor\n",
        "W.shape"
      ]
    },
    {
      "cell_type": "code",
      "execution_count": 9,
      "metadata": {
        "trusted": true
      },
      "outputs": [],
      "source": [
        "X_line = np.dot(X,W) + B"
      ]
    },
    {
      "cell_type": "code",
      "execution_count": 10,
      "metadata": {
        "trusted": true
      },
      "outputs": [],
      "source": [
        "def sigmoid_function(z):\n",
        "    return 1 / (1 + np.exp(-z))"
      ]
    },
    {
      "cell_type": "code",
      "execution_count": 18,
      "metadata": {
        "trusted": true
      },
      "outputs": [
        {
          "name": "stderr",
          "output_type": "stream",
          "text": [
            "/tmp/ipykernel_12633/2378276641.py:2: RuntimeWarning: overflow encountered in exp\n",
            "  return 1 / (1 + np.exp(-z))\n"
          ]
        },
        {
          "data": {
            "text/plain": [
              "(545,)"
            ]
          },
          "execution_count": 18,
          "metadata": {},
          "output_type": "execute_result"
        }
      ],
      "source": [
        "sigma_of_X = sigmoid_function(X_line) # dimension of sigma(X')\n",
        "sigma_of_X.shape"
      ]
    },
    {
      "cell_type": "code",
      "execution_count": 12,
      "metadata": {
        "trusted": true
      },
      "outputs": [],
      "source": [
        "def difference(y, W, B, X):\n",
        "    X_line = np.dot(X,W) + B\n",
        "    return np.mean((y - sigmoid_function(X_line)) ** 2)"
      ]
    },
    {
      "cell_type": "code",
      "execution_count": 19,
      "metadata": {
        "trusted": true
      },
      "outputs": [],
      "source": [
        "def random_search(X,y, n_iter = 1000):\n",
        "    features = X.shape[1]\n",
        "    min_loss = float('inf')\n",
        "    min_W = 0\n",
        "    min_B = 0\n",
        "    for i in range(n_iter):\n",
        "        W = np.random.randn(features)\n",
        "        B = np.random.randn()\n",
        "        loss = difference(y, W, B, X)\n",
        "        if loss < min_loss:\n",
        "            min_loss = loss\n",
        "            min_W = W\n",
        "            min_B = B\n",
        "    return min_W, min_B, min_loss"
      ]
    },
    {
      "cell_type": "code",
      "execution_count": 14,
      "metadata": {
        "trusted": true
      },
      "outputs": [
        {
          "name": "stdout",
          "output_type": "stream",
          "text": [
            "[-0.1651662   0.40041508 -0.01394246  0.17336606  0.03314347 -0.2640311\n",
            "  0.06014749  0.95784216 -0.00806553 -0.73348499  0.49762778 -0.58314254\n",
            "  0.36355122]\n",
            "0.6382405179721704\n",
            "0.3215866270552161\n"
          ]
        }
      ],
      "source": [
        "X = np.random.randn(1000, 13)\n",
        "y = np.random.randint(0, 2, 1000)\n",
        "\n",
        "min_W, min_B, min_X = random_search(X, y)\n",
        "\n",
        "print(min_W)\n",
        "print(min_B)\n",
        "print(min_X)"
      ]
    }
  ],
  "metadata": {
    "kernelspec": {
      "display_name": "base",
      "language": "python",
      "name": "python3"
    },
    "language_info": {
      "codemirror_mode": {
        "name": "ipython",
        "version": 3
      },
      "file_extension": ".py",
      "mimetype": "text/x-python",
      "name": "python",
      "nbconvert_exporter": "python",
      "pygments_lexer": "ipython3",
      "version": "3.12.7"
    }
  },
  "nbformat": 4,
  "nbformat_minor": 4
}
