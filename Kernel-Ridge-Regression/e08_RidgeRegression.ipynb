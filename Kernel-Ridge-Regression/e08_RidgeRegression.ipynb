{
 "cells": [
  {
   "cell_type": "markdown",
   "metadata": {},
   "source": [
    "Import Libraries"
   ]
  },
  {
   "cell_type": "code",
   "execution_count": null,
   "metadata": {},
   "outputs": [],
   "source": [
    "# Import necessary libraries\n",
    "import numpy as np\n",
    "import pandas as pd\n",
    "from sklearn.model_selection import train_test_split\n",
    "from sklearn.metrics import mean_squared_error, mean_absolute_error\n",
    "from sklearn.preprocessing import StandardScaler\n",
    "import matplotlib.pyplot as plt\n",
    "%matplotlib inline"
   ]
  },
  {
   "cell_type": "markdown",
   "metadata": {},
   "source": [
    "Load the Dataset"
   ]
  },
  {
   "cell_type": "code",
   "execution_count": 2,
   "metadata": {},
   "outputs": [
    {
     "name": "stdout",
     "output_type": "stream",
     "text": [
      "(545, 13)\n",
      "      price  area  bedrooms  bathrooms  stories mainroad guestroom basement  \\\n",
      "0  13300000  7420         4          2        3      yes        no       no   \n",
      "1  12250000  8960         4          4        4      yes        no       no   \n",
      "2  12250000  9960         3          2        2      yes        no      yes   \n",
      "3  12215000  7500         4          2        2      yes        no      yes   \n",
      "4  11410000  7420         4          1        2      yes       yes      yes   \n",
      "\n",
      "  hotwaterheating airconditioning  parking prefarea furnishingstatus  \n",
      "0              no             yes        2      yes        furnished  \n",
      "1              no             yes        3       no        furnished  \n",
      "2              no              no        2      yes   semi-furnished  \n",
      "3              no             yes        3      yes        furnished  \n",
      "4              no             yes        2       no        furnished  \n"
     ]
    }
   ],
   "source": [
    "data = pd.read_csv('Housing.csv')\n",
    "print(data.shape)\n",
    "print(data.head())"
   ]
  },
  {
   "cell_type": "markdown",
   "metadata": {},
   "source": [
    "Data Preprocessing"
   ]
  },
  {
   "cell_type": "code",
   "execution_count": 3,
   "metadata": {},
   "outputs": [
    {
     "name": "stdout",
     "output_type": "stream",
     "text": [
      "Missing values in each column:\n",
      " price               0\n",
      "area                0\n",
      "bedrooms            0\n",
      "bathrooms           0\n",
      "stories             0\n",
      "mainroad            0\n",
      "guestroom           0\n",
      "basement            0\n",
      "hotwaterheating     0\n",
      "airconditioning     0\n",
      "parking             0\n",
      "prefarea            0\n",
      "furnishingstatus    0\n",
      "dtype: int64\n"
     ]
    }
   ],
   "source": [
    "# Check for missing values\n",
    "print(\"Missing values in each column:\\n\", data.isnull().sum())\n",
    "\n",
    "# Remove 'prefarea' feature because it contains only missing values\n",
    "data = data.drop(columns=['prefarea'])\n",
    "\n",
    "# Encode other categorical variables\n",
    "categorical_cols = ['mainroad', 'guestroom', 'basement', 'hotwaterheating',\n",
    "                    'airconditioning', 'furnishingstatus']\n",
    "\n",
    "# Use pd.get_dummies to encode categorical variables\n",
    "data_encoded = pd.get_dummies(data, columns=categorical_cols, drop_first=True)\n",
    "\n",
    "# Separate features and target\n",
    "X = data_encoded.drop('price', axis=1)\n",
    "y = data_encoded['price']\n",
    "\n",
    "\n",
    "# Normalize the features\n",
    "scaler = StandardScaler()\n",
    "X_scaled = scaler.fit_transform(X)"
   ]
  },
  {
   "cell_type": "markdown",
   "metadata": {},
   "source": [
    "Train-Test Split (80% - 20%)"
   ]
  },
  {
   "cell_type": "code",
   "execution_count": 4,
   "metadata": {},
   "outputs": [],
   "source": [
    "# Split the data into training and testing sets\n",
    "X_train, X_test, y_train, y_test = train_test_split(\n",
    "    X_scaled, y, test_size=0.2, random_state=42)"
   ]
  },
  {
   "cell_type": "markdown",
   "metadata": {},
   "source": [
    "Kernelized Ridge Regression Implementation"
   ]
  },
  {
   "cell_type": "code",
   "execution_count": null,
   "metadata": {},
   "outputs": [],
   "source": [
    "# Kernel functions remain the same\n",
    "\n",
    "def polynomial_kernel(degree=3, coef0=1):\n",
    "    def thunk(X,Y):\n",
    "        \"\"\"Compute the polynomial kernel between X and Y.\"\"\"\n",
    "        return (np.dot(X, Y.T) + coef0) ** degree\n",
    "    return thunk\n",
    "\n",
    "def rbf_kernel(gamma):\n",
    "    def thunk(X,Y):\n",
    "        \"\"\"Compute the RBF (Gaussian) kernel between X and Y.\"\"\"\n",
    "        X_norm = np.sum(X ** 2, axis=1)\n",
    "        Y_norm = np.sum(Y ** 2, axis=1)\n",
    "        K = np.exp(-gamma * (\n",
    "            X_norm[:, np.newaxis] + Y_norm[np.newaxis, :] - 2 * np.dot(X, Y.T)))\n",
    "        return K\n",
    "    return thunk\n",
    "\n",
    "# Updated Kernel Ridge Regression class\n",
    "class KernelRidgeRegression:\n",
    "    def __init__(self, kernel, l=1.0):\n",
    "        \"\"\"\n",
    "        Initialize the Kernel Ridge Regression model.\n",
    "\n",
    "        Parameters:\n",
    "        - kernel: string, specifies the kernel type ('linear', 'polynomial', 'rbf')\n",
    "        - alpha: float, regularization parameter\n",
    "        - kernel_params: additional parameters for the kernel function\n",
    "        \"\"\"\n",
    "        self.l = l\n",
    "        self.kernel = kernel\n",
    "\n",
    "    def fit(self, X, y):\n",
    "        \"\"\"\n",
    "        Fit the Kernel Ridge Regression model using the derived formulas.\n",
    "\n",
    "        Parameters:\n",
    "        - X: array-like of shape (n_samples, n_features), training data\n",
    "        - y: array-like of shape (n_samples,), target values\n",
    "        \"\"\"\n",
    "        pass #to complete\n",
    "\n",
    "    def predict(self, X):\n",
    "        \"\"\"\n",
    "        Predict using the Kernel Ridge Regression model.\n",
    "\n",
    "        Parameters:\n",
    "        - X: array-like of shape (n_samples, n_features), input data\n",
    "\n",
    "        Returns:\n",
    "        - y_pred: array-like of shape (n_samples,), predicted values\n",
    "        \"\"\"\n",
    "        pass #to complete\n"
   ]
  },
  {
   "cell_type": "markdown",
   "metadata": {},
   "source": [
    "# Model Training and Prediction"
   ]
  },
  {
   "cell_type": "code",
   "execution_count": null,
   "metadata": {},
   "outputs": [],
   "source": [
    "# to complete"
   ]
  },
  {
   "cell_type": "markdown",
   "metadata": {},
   "source": [
    "Results Comparison"
   ]
  },
  {
   "cell_type": "code",
   "execution_count": null,
   "metadata": {},
   "outputs": [],
   "source": [
    "# Define a function to compute evaluation metrics\n",
    "def evaluate_model(y_true, y_pred, model_name):\n",
    "    mse = mean_squared_error(y_true, y_pred)\n",
    "    mae = mean_absolute_error(y_true, y_pred)\n",
    "    print(f\"{model_name} - Mean Squared Error: {mse:,.2f}, Mean Absolute Error: {mae:,.2f}\")\n",
    "    return mse\n",
    "\n",
    "\n",
    "# Evaluate Kernelized Ridge Regression with Linear kernel\n",
    "mse_krr_linear = evaluate_model(\n",
    "    y_test, y_pred_krr_linear, \"Kernelized Ridge Regression (Linear Kernel)\")\n",
    "\n"
   ]
  },
  {
   "cell_type": "code",
   "execution_count": null,
   "metadata": {},
   "outputs": [],
   "source": [
    "# Plotting true vs predicted values for each model\n",
    "#plt.figure(figsize=(24, 5))\n",
    "\n",
    "def plot_results(y_true, y_pred, model_name):\n",
    "    plt.figure()\n",
    "    plt.scatter(y_true, y_pred, alpha=0.7, edgecolors='purple')\n",
    "    plt.plot([y_true.min(), y_true.max()], [y_true.min(), y_true.max()], 'r--')\n",
    "    plt.xlabel(\"Actual Prices\")\n",
    "    plt.ylabel(\"Predicted Prices\")\n",
    "    plt.title(f\"Kernel Ridge Regression ({model_name})\")\n",
    "    plt.tight_layout()\n",
    "    plt.show()\n",
    "\n",
    "\n",
    "plot_results(y_test, y_pred_krr_linear, \"Linear\")\n",
    "\n"
   ]
  }
 ],
 "metadata": {
  "kernelspec": {
   "display_name": "Python 3",
   "language": "python",
   "name": "python3"
  },
  "language_info": {
   "codemirror_mode": {
    "name": "ipython",
    "version": 3
   },
   "file_extension": ".py",
   "mimetype": "text/x-python",
   "name": "python",
   "nbconvert_exporter": "python",
   "pygments_lexer": "ipython3",
   "version": "3.10.12"
  }
 },
 "nbformat": 4,
 "nbformat_minor": 2
}
